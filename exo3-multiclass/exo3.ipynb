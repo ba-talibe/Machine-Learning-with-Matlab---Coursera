{
 "cells": [
  {
   "cell_type": "markdown",
   "id": "1ae31c36",
   "metadata": {},
   "source": [
    " ## Machine Learning Online Class - Exercise 3 | Part 2: Neural Networks\n",
    "\n",
    "  Instructions\n",
    "  ------------\n",
    " \n",
    "  This file contains code that helps you get started on the\n",
    "  linear exercise. You will need to complete the following functions \n",
    "  in this exericse:\n",
    "\n",
    "     lrCostFunction.m (logistic regression cost function)\n",
    "     oneVsAll.m\n",
    "     predictOneVsAll.m\n",
    "     predict.m\n",
    "\n",
    "  For this exercise, you will not need to change any code in this file,\n",
    "  or any other files other than those mentioned above.\n",
    "\n",
    "\n",
    " Initialization"
   ]
  },
  {
   "cell_type": "markdown",
   "id": "85049b6c",
   "metadata": {},
   "source": [
    "\n",
    "\n",
    "\n",
    "## Setup the parameters you will use for this exercise\n"
   ]
  },
  {
   "cell_type": "code",
   "execution_count": 6,
   "id": "6b86f408",
   "metadata": {},
   "outputs": [
    {
     "name": "stdout",
     "output_type": "stream",
     "text": [
      "\u001b[?2004l\n",
      "\u001b[?2004h\u001b[?2004l\n",
      "\u001b[?2004h\u001b[?2004l\n",
      "\u001b[?2004h\u001b[?2004l\n",
      "\u001b[?2004h"
     ]
    }
   ],
   "source": [
    "input_layer_size  = 400;  % 20x20 Input Images of Digits\n",
    "hidden_layer_size = 25;   % 25 hidden units\n",
    "num_labels = 10;          % 10 labels, from 1 to 10   \n",
    "                          % (note that we have mapped \"0\" to label 10)"
   ]
  },
  {
   "cell_type": "code",
   "execution_count": 7,
   "id": "f8bf8431",
   "metadata": {},
   "outputs": [
    {
     "name": "stdout",
     "output_type": "stream",
     "text": [
      "\u001b[?2004l\n",
      "\u001b[?2004h\u001b[?2004l\n",
      "\u001b[?2004h\u001b[?2004l\n",
      "Loading and Visualizing Data ...\n",
      "\u001b[?2004h\u001b[?2004l\n",
      "\u001b[?2004h\u001b[?2004l\n",
      "\u001b[?2004h\u001b[?2004l\n",
      "\u001b[?2004h\u001b[?2004l\n",
      "\u001b[?2004h\u001b[?2004l\n",
      "\u001b[?2004h\u001b[?2004l\n",
      "\u001b[?2004h\u001b[?2004l\n",
      "\u001b[?2004h\u001b[?2004l\n",
      "\u001b[?2004h\u001b[?2004l\n",
      "\u001b[?2004h\u001b[?2004l\n",
      "\u001b[?2004h\u001b[?2004l\n",
      "Program paused. Press enter to continue.\n",
      "\u001b[?2004h"
     ]
    },
    {
     "data": {
      "image/png": "[encoded data removed]",
      "text/plain": [
       "<IPython.core.display.Image object>"
      ]
     },
     "metadata": {},
     "output_type": "display_data"
    }
   ],
   "source": [
    "\n",
    "% Load Training Data\n",
    "fprintf('Loading and Visualizing Data ...\\n')\n",
    "\n",
    "load('ex3data1.mat');\n",
    "m = size(X, 1);\n",
    "\n",
    "% Randomly select 100 data points to display\n",
    "sel = randperm(size(X, 1));\n",
    "sel = sel(1:100);\n",
    "\n",
    "displayData(X(sel, :));\n",
    "\n",
    "fprintf('Program paused. Press enter to continue.\\n');\n",
    "\n"
   ]
  },
  {
   "cell_type": "markdown",
   "id": "6d20bac2",
   "metadata": {},
   "source": [
    "\n",
    "## ================ Part 2: Loading Pameters ===============\n",
    " In this part of the exercise, we load some pre-initialized \n",
    " neural network parameters.\n"
   ]
  },
  {
   "cell_type": "code",
   "execution_count": 5,
   "id": "f4b92e39",
   "metadata": {},
   "outputs": [
    {
     "name": "stdout",
     "output_type": "stream",
     "text": [
      "\u001b[?2004l\n",
      "\u001b[?2004h\u001b[?2004l\n",
      "\n",
      "Loading Saved Neural Network Parameters ...\n",
      "\u001b[?2004h\u001b[?2004l\n",
      "\u001b[?2004h\u001b[?2004l\n",
      "\u001b[?2004h\u001b[?2004l\n",
      "\u001b[?2004h"
     ]
    }
   ],
   "source": [
    "\n",
    "fprintf('\\nLoading Saved Neural Network Parameters ...\\n')\n",
    "\n",
    "% Load the weights into variables Theta1 and Theta2\n",
    "load('ex3weights.mat');\n"
   ]
  },
  {
   "cell_type": "markdown",
   "id": "ff1f5b0d",
   "metadata": {},
   "source": [
    "\n",
    "## ================= Part 3: Implement Predict =================\n",
    "  After training the neural network, we would like to use it to predict\n",
    "  the labels. You will now implement the \"predict\" function to use the\n",
    "  neural network to predict the labels of the training set. This lets\n",
    "  you compute the training set accuracy.\n"
   ]
  }
 ],
 "metadata": {
  "kernelspec": {
   "display_name": "Octave",
   "language": "octave",
   "name": "octave"
  },
  "language_info": {
   "file_extension": ".m",
   "help_links": [
    {
     "text": "GNU Octave",
     "url": "https://www.gnu.org/software/octave/support.html"
    },
    {
     "text": "Octave Kernel",
     "url": "https://github.com/Calysto/octave_kernel"
    },
    {
     "text": "MetaKernel Magics",
     "url": "https://metakernel.readthedocs.io/en/latest/source/README.html"
    }
   ],
   "mimetype": "text/x-octave",
   "name": "octave",
   "version": "7.3.0"
  }
 },
 "nbformat": 4,
 "nbformat_minor": 5
}
